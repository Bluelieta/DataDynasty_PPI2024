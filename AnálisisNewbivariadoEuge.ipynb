{
 "cells": [
  {
   "cell_type": "code",
   "execution_count": 1,
   "id": "3f8caf23-0aa1-4bf8-9252-0235cf174393",
   "metadata": {},
   "outputs": [],
   "source": [
    "import pandas as pd\n",
    "import numpy as np\n",
    "import matplotlib.pyplot as plt\n",
    "import seaborn as sns"
   ]
  },
  {
   "cell_type": "code",
   "execution_count": 2,
   "id": "4df3b8a3-f7f4-40b5-9036-38b325c256e9",
   "metadata": {},
   "outputs": [],
   "source": [
    "test = pd.read_csv(\"Tests.csv\", sep=';')"
   ]
  },
  {
   "cell_type": "code",
   "execution_count": 4,
   "id": "50cc05d4-125b-47c3-9bf6-065a8a059f48",
   "metadata": {},
   "outputs": [
    {
     "name": "stdout",
     "output_type": "stream",
     "text": [
      "<class 'pandas.core.frame.DataFrame'>\n",
      "RangeIndex: 3148 entries, 0 to 3147\n",
      "Data columns (total 9 columns):\n",
      " #   Column     Non-Null Count  Dtype \n",
      "---  ------     --------------  ----- \n",
      " 0   TestId     3148 non-null   object\n",
      " 1   RawDataId  3148 non-null   object\n",
      " 2   Date       3148 non-null   object\n",
      " 3   Time       3148 non-null   object\n",
      " 4   Systolic   3148 non-null   int64 \n",
      " 5   Diastolic  3148 non-null   int64 \n",
      " 6   MAP        3148 non-null   int64 \n",
      " 7   HR         3148 non-null   int64 \n",
      " 8   PP         3148 non-null   int64 \n",
      "dtypes: int64(5), object(4)\n",
      "memory usage: 221.5+ KB\n"
     ]
    }
   ],
   "source": [
    "test.info()"
   ]
  },
  {
   "cell_type": "code",
   "execution_count": 8,
   "id": "71802bb2-4449-4288-a5e0-a5baacd4a033",
   "metadata": {},
   "outputs": [],
   "source": [
    "completos = pd.read_csv(\"Completos.csv\", sep=';')"
   ]
  },
  {
   "cell_type": "code",
   "execution_count": 10,
   "id": "142f617d-bc68-4b3e-946a-8facb61232db",
   "metadata": {},
   "outputs": [],
   "source": [
    "df_unido = pd.merge(test, completos, on='TestId', how='right')"
   ]
  },
  {
   "cell_type": "code",
   "execution_count": 12,
   "id": "d3247e5b-2cab-4ca9-bd5f-ef748dcf405a",
   "metadata": {},
   "outputs": [
    {
     "data": {
      "text/plain": [
       "(4845, 32)"
      ]
     },
     "execution_count": 12,
     "metadata": {},
     "output_type": "execute_result"
    }
   ],
   "source": [
    "df_unido.shape"
   ]
  },
  {
   "cell_type": "code",
   "execution_count": 14,
   "id": "26cbe50e-8f86-4464-80c0-cbd0d7ce6d0a",
   "metadata": {},
   "outputs": [
    {
     "data": {
      "text/plain": [
       "Index(['TestId', 'RawDataId', 'Date', 'Time', 'Systolic', 'Diastolic', 'MAP',\n",
       "       'HR', 'PP', 'PatientId', 'Interpretation', 'HookupStartTime',\n",
       "       'HookupEndTime', 'SystolicMax', 'SystolicMin', 'DiastolicMax',\n",
       "       'DiastolicMin', 'MAPMax', 'MAPMin', 'PPMax', 'PPMin', 'HRMax', 'HRMin',\n",
       "       'Duration', 'SuccessfullReading', 'PercentSuccessfullReading',\n",
       "       'SysDipping', 'DiaDipping', 'MapDipping', 'Age', 'GenderId',\n",
       "       'BirthDate'],\n",
       "      dtype='object')"
      ]
     },
     "execution_count": 14,
     "metadata": {},
     "output_type": "execute_result"
    }
   ],
   "source": [
    "df_unido.columns"
   ]
  },
  {
   "cell_type": "code",
   "execution_count": 16,
   "id": "9cc6f40e-b66e-4290-8069-e6b194ce7494",
   "metadata": {},
   "outputs": [],
   "source": [
    "df_limpio = df_unido[['TestId', 'RawDataId', 'Date', 'Time', 'Systolic', 'Diastolic', 'MAP',\n",
    "       'HR', 'PP', 'PatientId', 'Interpretation', 'HookupStartTime',\n",
    "       'HookupEndTime', 'Duration', 'SuccessfullReading', 'PercentSuccessfullReading',\n",
    "       'SysDipping', 'DiaDipping', 'MapDipping', 'Age', 'GenderId',\n",
    "       'BirthDate']]"
   ]
  },
  {
   "cell_type": "code",
   "execution_count": null,
   "id": "1985b82b-f60f-411c-a5fd-265cda70f62f",
   "metadata": {},
   "outputs": [],
   "source": []
  }
 ],
 "metadata": {
  "kernelspec": {
   "display_name": "Python 3 (ipykernel)",
   "language": "python",
   "name": "python3"
  },
  "language_info": {
   "codemirror_mode": {
    "name": "ipython",
    "version": 3
   },
   "file_extension": ".py",
   "mimetype": "text/x-python",
   "name": "python",
   "nbconvert_exporter": "python",
   "pygments_lexer": "ipython3",
   "version": "3.11.5"
  }
 },
 "nbformat": 4,
 "nbformat_minor": 5
}
